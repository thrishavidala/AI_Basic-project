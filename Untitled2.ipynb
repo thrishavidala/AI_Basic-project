{
  "nbformat": 4,
  "nbformat_minor": 0,
  "metadata": {
    "colab": {
      "provenance": [],
      "authorship_tag": "ABX9TyO7If2ctK4nIRl/F/gG7W+9",
      "include_colab_link": true
    },
    "kernelspec": {
      "name": "python3",
      "display_name": "Python 3"
    },
    "language_info": {
      "name": "python"
    }
  },
  "cells": [
    {
      "cell_type": "markdown",
      "metadata": {
        "id": "view-in-github",
        "colab_type": "text"
      },
      "source": [
        "<a href=\"https://colab.research.google.com/github/thrishavidala/AI_Basic-project/blob/main/Untitled2.ipynb\" target=\"_parent\"><img src=\"https://colab.research.google.com/assets/colab-badge.svg\" alt=\"Open In Colab\"/></a>"
      ]
    },
    {
      "cell_type": "code",
      "execution_count": null,
      "metadata": {
        "colab": {
          "base_uri": "https://localhost:8080/",
          "height": 738
        },
        "id": "W3hlt0UlnSpC",
        "outputId": "ffe7d439-d85f-4a2c-ffac-d69414d2d0ac"
      },
      "outputs": [
        {
          "output_type": "stream",
          "name": "stderr",
          "text": [
            "[nltk_data] Downloading package stopwords to /root/nltk_data...\n",
            "[nltk_data]   Package stopwords is already up-to-date!\n"
          ]
        },
        {
          "output_type": "stream",
          "name": "stdout",
          "text": [
            "Drive already mounted at /content/drive/; to attempt to forcibly remount, call drive.mount(\"/content/drive/\", force_remount=True).\n",
            "---------SCORES--------\n",
            "Accuracy score is 0.0%\n",
            "Precision score is 0.0%\n",
            "Recall score is 0.0%\n",
            "Positive review\n",
            "Positive review\n",
            "Positive review\n",
            "Positive review\n"
          ]
        },
        {
          "output_type": "display_data",
          "data": {
            "text/plain": [
              "<Figure size 1000x600 with 2 Axes>"
            ],
            "image/png": "[encoded data removed]"
          },
          "metadata": {}
        }
      ],
      "source": [
        "\n",
        "\n",
        "from google.colab import drive\n",
        "import numpy as np\n",
        "import pandas as pd\n",
        "import nltk\n",
        "from nltk.corpus import stopwords\n",
        "from nltk.stem.porter import PorterStemmer\n",
        "from sklearn.feature_extraction.text import CountVectorizer\n",
        "from sklearn.model_selection import train_test_split\n",
        "from sklearn.naive_bayes import MultinomialNB\n",
        "from sklearn.metrics import accuracy_score, recall_score, confusion_matrix\n",
        "import matplotlib.pyplot as plt\n",
        "import seaborn as sns\n",
        "import re\n",
        "nltk.download('stopwords')\n",
        "# Mount Google Drive\n",
        "drive.mount('/content/drive/')\n",
        "\n",
        "\n",
        " # Load the dataset\n",
        "data = pd.read_csv('/content/drive/MyDrive/Restaurant_Reviews.csv', delimiter=',', quoting=2)\n",
        "\n",
        "# Preprocess the text data\n",
        "corpus = []\n",
        "for i in range(len(data)):\n",
        "    review = re.sub(pattern='[^a-zA-Z]', repl=' ', string=data['Review'][i])\n",
        "    review = review.lower()\n",
        "    review_words = review.split()\n",
        "    review_words = [word for word in review_words if not word in set(stopwords.words('english'))]\n",
        "    ps = PorterStemmer()\n",
        "    review = [ps.stem(word) for word in review_words]\n",
        "    review = ' '.join(review)\n",
        "    corpus.append(review)\n",
        "\n",
        "# Create the bag-of-words model\n",
        "cv = CountVectorizer(max_features=1500)\n",
        "X = cv.fit_transform(corpus).toarray()\n",
        "y = data.iloc[:, 1].values\n",
        "\n",
        "# Split the dataset into training and testing sets\n",
        "X_train, X_test, y_train, y_test = train_test_split(X, y, test_size=0.20, random_state=0)\n",
        "\n",
        "# Train the Naive Bayes classifier\n",
        "classifier = MultinomialNB(alpha=0.2)\n",
        "classifier.fit(X_train, y_train)\n",
        "\n",
        "# Evaluate the classifier\n",
        "# Evaluate the classifier\n",
        "y_pred = classifier.predict(X_test)\n",
        "score1 = accuracy_score(y_test, y_pred)\n",
        "\n",
        "# Convert string labels to binary labels\n",
        "y_test_binary = np.where(y_test == 'positive', 1, 0)\n",
        "y_pred_binary = np.where(y_pred == 'positive', 1, 0)\n",
        "\n",
        "score2 = accuracy_score(y_test_binary, y_pred_binary)\n",
        "cm = confusion_matrix(y_test_binary, y_pred_binary)\n",
        "\n",
        "\n",
        "# Display scores and confusion matrix\n",
        "print(\"---------SCORES--------\")\n",
        "print(\"Accuracy score is {}%\".format(round(score1 * 100, 2)))\n",
        "print(\"Precision score is {}%\".format(round(score2 * 100, 2)))\n",
        "print(\"Recall score is {}%\".format(round(score3 * 100, 2)))\n",
        "\n",
        "# Display confusion matrix\n",
        "plt.figure(figsize=(10, 6))\n",
        "sns.heatmap(cm, annot=True, cmap=\"YlGnBu\", xticklabels=['Negative', 'Positive'], yticklabels=['Negative', 'Positive'])\n",
        "plt.xlabel('Predicted values')\n",
        "plt.ylabel('Actual Values')\n",
        "\n",
        "# Function for sentiment prediction\n",
        "def predict_sentiment(sample_review):\n",
        "    sample_review = re.sub(pattern='[^a-zA-Z]', repl=' ', string=sample_review)\n",
        "    sample_review = sample_review.lower()\n",
        "    sample_review_words = sample_review.split()\n",
        "    sample_review_words = [word for word in sample_review_words if not word in set(stopwords.words('english'))]\n",
        "    ps = PorterStemmer()\n",
        "    final_review = [ps.stem(word) for word in sample_review_words]\n",
        "    final_review = ' '.join(final_review)\n",
        "    temp = cv.transform([final_review]).toarray()\n",
        "    return classifier.predict(temp)\n",
        "\n",
        "# Test sentiment prediction\n",
        "sample_review = 'The food is really bad.'\n",
        "if predict_sentiment(sample_review):\n",
        "    print(\"Positive review\")\n",
        "else:\n",
        "    print(\"Negative review\")\n",
        "\n",
        "sample_review = 'Food was pretty bad and the service was very slow'\n",
        "if predict_sentiment(sample_review):\n",
        "    print(\"Positive review\")\n",
        "else:\n",
        "    print(\"Negative review\")\n",
        "\n",
        "sample_review = 'The food was absolutely wonderful, from preparation to presentation, very pleasing.'\n",
        "if predict_sentiment(sample_review):\n",
        "    print(\"Positive review\")\n",
        "else:\n",
        "    print(\"Negative review\")\n",
        "\n",
        "sample_review = 'Food average'\n",
        "if predict_sentiment(sample_review):\n",
        "    print(\"Positive review\")\n",
        "else:\n",
        "    print(\"Negative review\")\n"
      ]
    }
  ]
}